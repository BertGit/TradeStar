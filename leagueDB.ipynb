{
 "metadata": {
  "name": "leagueDB"
 },
 "nbformat": 3,
 "nbformat_minor": 0,
 "worksheets": [
  {
   "cells": [
    {
     "cell_type": "heading",
     "level": 1,
     "metadata": {},
     "source": [
      "Loading Data from openLigaDB"
     ]
    },
    {
     "cell_type": "code",
     "collapsed": false,
     "input": [
      "import json\n",
      "import urllib\n",
      "import urllib2\n",
      "import pandas as pd\n",
      "import datetime as dt\n",
      "import os\n",
      "\n",
      "def getJsonResponse(function, parameters):\n",
      "    \"\"\"Gets JSON response of function and parameters according to http://openligadb-json.heroku.com/\"\"\"\n",
      "    encoded_args = urllib.urlencode(parameters)\n",
      "    response = urllib2.urlopen('http://openligadb-json.heroku.com/api/' + function + '?' + encoded_args)\n",
      "    return json.loads(response.read())"
     ],
     "language": "python",
     "metadata": {},
     "outputs": [],
     "prompt_number": 9
    },
    {
     "cell_type": "code",
     "collapsed": false,
     "input": [
      "def scrape_all_data():\n",
      "    \"\"\"Downloads all 1. Bundesliga information from openLigaDB.de and stores it in a csv-file\"\"\"\n",
      "    # Get teams from 2013/2014\n",
      "    teams = getJsonResponse('teams_by_league_saison', {'league_saison':'2013', 'league_shortcut':'bl1'})\n",
      "    teams = pd.DataFrame.from_dict(teams['team'])\n",
      "    teams.to_csv('data/teams.csv', encoding='utf-8', index=False)\n",
      "    \n",
      "    # Get all games from 2009-2013. This can take quite some time due to server caching\n",
      "    years = ['2009', '2010', '2011', '2012', '2013']\n",
      "    matches = dict.fromkeys(years)\n",
      "    for year in years:\n",
      "        saison = getJsonResponse('matchdata_by_league_saison', {'league_saison':year, 'league_shortcut':'bl1'})\n",
      "        matches[year] = pd.DataFrame.from_dict(saison['matchdata'])\n",
      "    \n",
      "    # Concatenate all data into one dataset\n",
      "    all_matches = pd.concat(matches, ignore_index=True)\n",
      "    \n",
      "    # Save dataset in csv file\n",
      "    all_matches.to_csv('data/leagueDB.csv', encoding='utf-8', index=False)"
     ],
     "language": "python",
     "metadata": {},
     "outputs": [],
     "prompt_number": 11
    },
    {
     "cell_type": "code",
     "collapsed": false,
     "input": [
      "def load_db_from_file():\n",
      "    return pd.read_csv('data/leagueDB.csv')"
     ],
     "language": "python",
     "metadata": {},
     "outputs": [],
     "prompt_number": 2
    },
    {
     "cell_type": "code",
     "collapsed": false,
     "input": [
      "def modification_date(filename):\n",
      "    t = os.path.getmtime(filename)\n",
      "    return dt.datetime.fromtimestamp(t)\n",
      "\n",
      "def update_db(db, this_saison):\n",
      "    \"\"\" Checks if database changed today and updates the db accordingly\"\"\"\n",
      "    last_change_date = getJsonResponse('last_change_date_by_league_saison', {'league_saison':str(this_saison), 'league_shortcut':'bl1'})\n",
      "    last_change_date = dt.datetime.strptime(last_change_date[:10], '%Y-%m-%d')\n",
      "    if modification_date('data/leagueDB.csv').date() <= last_change_date.date():\n",
      "        # Remove current saison\n",
      "        db = db[db['league_saison']!=this_saison]\n",
      "        # Download saison data\n",
      "        saison = getJsonResponse('matchdata_by_league_saison', {'league_saison':str(this_saison), 'league_shortcut':'bl1'})\n",
      "        # Store in DataFrame\n",
      "        saison_frame = pd.DataFrame.from_dict(saison['matchdata'])\n",
      "        # Append to database\n",
      "        db = pd.concat([db, saison_frame], ignore_index=True)\n",
      "        # Save in csv-file\n",
      "        db.to_csv('data/leagueDB.csv', encoding='utf-8', index=False)\n",
      "        print 'leagueDB has been updated'\n",
      "        return db\n",
      "    else:\n",
      "        # No changes\n",
      "        print 'leagueDB up to date'\n",
      "        return db"
     ],
     "language": "python",
     "metadata": {},
     "outputs": [
      {
       "output_type": "stream",
       "stream": "stdout",
       "text": [
        "2013-08-17T20:00:53+00:00\n",
        "leagueDB up to date\n"
       ]
      }
     ],
     "prompt_number": 11
    }
   ],
   "metadata": {}
  }
 ]
}