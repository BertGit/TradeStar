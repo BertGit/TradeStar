{
 "metadata": {
  "name": "Project Information"
 },
 "nbformat": 3,
 "nbformat_minor": 0,
 "worksheets": [
  {
   "cells": [
    {
     "cell_type": "heading",
     "level": 1,
     "metadata": {},
     "source": [
      "Project Information"
     ]
    },
    {
     "cell_type": "markdown",
     "metadata": {},
     "source": [
      "<ul>\n",
      "    <li>Git repository: <a href='https://github.com/BertGit/TradeStar.git'>https://github.com/BertGit/TradeStar.git</a></li>\n",
      "    <li>Python package: <a href='https://store.continuum.io/cshop/anaconda/'>Continuum Anaconda</a> including Python 2.7 and scientific packages</li>\n",
      "</ul>"
     ]
    },
    {
     "cell_type": "heading",
     "level": 3,
     "metadata": {},
     "source": [
      "Discussion"
     ]
    },
    {
     "cell_type": "markdown",
     "metadata": {},
     "source": [
      "<ol>\n",
      "    <li> Which language to use (German/ English)? </li>\n",
      "    <li> Forum/ Facebook group for internal discussion?</li>\n",
      "    <li> Where to start/ how to split up project? </li>\n",
      "</ol>"
     ]
    },
    {
     "cell_type": "heading",
     "level": 3,
     "metadata": {},
     "source": [
      "ToDos"
     ]
    },
    {
     "cell_type": "markdown",
     "metadata": {},
     "source": [
      "Clarify open discussion points"
     ]
    }
   ],
   "metadata": {}
  }
 ]
}