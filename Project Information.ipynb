{
 "metadata": {
  "name": "Project Information"
 },
 "nbformat": 3,
 "nbformat_minor": 0,
 "worksheets": [
  {
   "cells": [
    {
     "cell_type": "heading",
     "level": 1,
     "metadata": {},
     "source": [
      "Project Information"
     ]
    },
    {
     "cell_type": "markdown",
     "metadata": {},
     "source": [
      "<ul>\n",
      "    <li>Git repository: <a href='https://github.com/BertGit/TradeStar.git'>https://github.com/BertGit/TradeStar.git</a></li>\n",
      "    <li>Python package: <a href='https://store.continuum.io/cshop/anaconda/'>Continuum Anaconda</a> including Python 2.7 and scientific packages</li>\n",
      "</ul>"
     ]
    },
    {
     "cell_type": "heading",
     "level": 3,
     "metadata": {},
     "source": [
      "Discussion"
     ]
    },
    {
     "cell_type": "markdown",
     "metadata": {},
     "source": [
      "<ol>\n",
      "    <li> Which language to use (German/ English)?English </li>\n",
      "    <li> Forum/ Facebook group for internal discussion? facebook -> easy</li>\n",
      "    <li> Where to start/ how to split up project? Start with backtest</li>\n",
      "</ol>"
     ]
    },
    {
     "cell_type": "heading",
     "level": 3,
     "metadata": {},
     "source": [
      "ToDos"
     ]
    },
    {
     "cell_type": "markdown",
     "metadata": {},
     "source": [
      "Clarify open discussion points"
     ]
    },
    {
     "cell_type": "heading",
     "level": 3,
     "metadata": {},
     "source": [
      "Interesting Documents"
     ]
    },
    {
     "cell_type": "markdown",
     "metadata": {},
     "source": [
      "Papers to be stored in the \"docs\" folder.\n",
      "Make annotation here about origin and any explanations to the file.\n",
      "<ul>\n",
      "    <li><b>Dixon Coles</b>: Paper about modelling of football games exploiting statistics for positive return bets on football matches. Please also have a look at this article from <a href=\"http://www.theguardian.com/money/2011/jun/11/working-life-quantitative-analyst\">The Guardian</a></li>.\n",
      "    <li><b>PairsTrading</b>: Describes a method for finding highly correlated stocks, which prices have diverged and bet on the convergence of the stock prices.</li>\n",
      "</ul>"
     ]
    }
   ],
   "metadata": {}
  }
 ]
}
