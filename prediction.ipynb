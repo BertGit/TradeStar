{
 "metadata": {
  "name": "prediction"
 },
 "nbformat": 3,
 "nbformat_minor": 0,
 "worksheets": [
  {
   "cells": [
    {
     "cell_type": "code",
     "collapsed": false,
     "input": [
      "from leagueDB import *\n",
      "\n",
      "#scrape_all_data()\n",
      "db = load_db_from_file()\n",
      "db = update_db(db, 2013)"
     ],
     "language": "python",
     "metadata": {},
     "outputs": [
      {
       "output_type": "stream",
       "stream": "stdout",
       "text": [
        "leagueDB has been updated\n"
       ]
      }
     ],
     "prompt_number": 1
    },
    {
     "cell_type": "code",
     "collapsed": false,
     "input": [
      "from helper_functions import *\n",
      "pd.set_option(\"display.line_width\",200) \n",
      "\n",
      "# Example: Show the next 10 upcoming matches\n",
      "show_next_matches(db, 10)"
     ],
     "language": "python",
     "metadata": {},
     "outputs": [
      {
       "html": [
        "<div style=\"max-height:1000px;max-width:1500px;overflow:auto;\">\n",
        "<table border=\"1\" class=\"dataframe\">\n",
        "  <thead>\n",
        "    <tr style=\"text-align: right;\">\n",
        "      <th></th>\n",
        "      <th>match_date_time</th>\n",
        "      <th>name_team1</th>\n",
        "      <th>name_team2</th>\n",
        "    </tr>\n",
        "  </thead>\n",
        "  <tbody>\n",
        "    <tr>\n",
        "      <th>1240</th>\n",
        "      <td> 2013-08-18T15:30:00+00:00</td>\n",
        "      <td>         1. FC N\u00fcrnberg</td>\n",
        "      <td>               Hertha BSC</td>\n",
        "    </tr>\n",
        "    <tr>\n",
        "      <th>1241</th>\n",
        "      <td> 2013-08-18T17:30:00+00:00</td>\n",
        "      <td>      Borussia Dortmund</td>\n",
        "      <td>   Eintracht Braunschweig</td>\n",
        "    </tr>\n",
        "    <tr>\n",
        "      <th>1242</th>\n",
        "      <td> 2013-08-23T20:30:00+00:00</td>\n",
        "      <td>      Borussia Dortmund</td>\n",
        "      <td>            Werder Bremen</td>\n",
        "    </tr>\n",
        "    <tr>\n",
        "      <th>1243</th>\n",
        "      <td> 2013-08-24T15:30:00+00:00</td>\n",
        "      <td>         Bayern M\u00fcnchen</td>\n",
        "      <td>           1. FC N\u00fcrnberg</td>\n",
        "    </tr>\n",
        "    <tr>\n",
        "      <th>1244</th>\n",
        "      <td> 2013-08-24T15:30:00+00:00</td>\n",
        "      <td>    Bayer 04 Leverkusen</td>\n",
        "      <td> Borussia M\u00f6nchengladbach</td>\n",
        "    </tr>\n",
        "    <tr>\n",
        "      <th>1245</th>\n",
        "      <td> 2013-08-24T15:30:00+00:00</td>\n",
        "      <td>            Hannover 96</td>\n",
        "      <td>            FC Schalke 04</td>\n",
        "    </tr>\n",
        "    <tr>\n",
        "      <th>1246</th>\n",
        "      <td> 2013-08-24T15:30:00+00:00</td>\n",
        "      <td>    TSG 1899 Hoffenheim</td>\n",
        "      <td>              SC Freiburg</td>\n",
        "    </tr>\n",
        "    <tr>\n",
        "      <th>1247</th>\n",
        "      <td> 2013-08-24T15:30:00+00:00</td>\n",
        "      <td>        1. FSV Mainz 05</td>\n",
        "      <td>            VfL Wolfsburg</td>\n",
        "    </tr>\n",
        "    <tr>\n",
        "      <th>1248</th>\n",
        "      <td> 2013-08-24T18:30:00+00:00</td>\n",
        "      <td>             Hertha BSC</td>\n",
        "      <td>             Hamburger SV</td>\n",
        "    </tr>\n",
        "    <tr>\n",
        "      <th>1249</th>\n",
        "      <td> 2013-08-25T15:30:00+00:00</td>\n",
        "      <td> Eintracht Braunschweig</td>\n",
        "      <td>      Eintracht Frankfurt</td>\n",
        "    </tr>\n",
        "  </tbody>\n",
        "</table>\n",
        "</div>"
       ],
       "output_type": "display_data",
       "text": [
        "                match_date_time              name_team1                name_team2\n",
        "1240  2013-08-18T15:30:00+00:00          1. FC N\u00fcrnberg                Hertha BSC\n",
        "1241  2013-08-18T17:30:00+00:00       Borussia Dortmund    Eintracht Braunschweig\n",
        "1242  2013-08-23T20:30:00+00:00       Borussia Dortmund             Werder Bremen\n",
        "1243  2013-08-24T15:30:00+00:00          Bayern M\u00fcnchen            1. FC N\u00fcrnberg\n",
        "1244  2013-08-24T15:30:00+00:00     Bayer 04 Leverkusen  Borussia M\u00f6nchengladbach\n",
        "1245  2013-08-24T15:30:00+00:00             Hannover 96             FC Schalke 04\n",
        "1246  2013-08-24T15:30:00+00:00     TSG 1899 Hoffenheim               SC Freiburg\n",
        "1247  2013-08-24T15:30:00+00:00         1. FSV Mainz 05             VfL Wolfsburg\n",
        "1248  2013-08-24T18:30:00+00:00              Hertha BSC              Hamburger SV\n",
        "1249  2013-08-25T15:30:00+00:00  Eintracht Braunschweig       Eintracht Frankfurt"
       ]
      }
     ],
     "prompt_number": 4
    }
   ],
   "metadata": {}
  }
 ]
}