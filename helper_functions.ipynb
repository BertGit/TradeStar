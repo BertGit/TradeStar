{
 "metadata": {
  "name": "helper_functions"
 },
 "nbformat": 3,
 "nbformat_minor": 0,
 "worksheets": [
  {
   "cells": [
    {
     "cell_type": "code",
     "collapsed": false,
     "input": [
      "from leagueDB import *\n",
      "\n",
      "#scrape_all_data()\n",
      "db = load_db_from_file()\n",
      "db = update_db(db, 2013)"
     ],
     "language": "python",
     "metadata": {},
     "outputs": [
      {
       "output_type": "stream",
       "stream": "stdout",
       "text": [
        "leagueDB up to date\n"
       ]
      }
     ],
     "prompt_number": 41
    },
    {
     "cell_type": "code",
     "collapsed": false,
     "input": [
      "def team_matches(db, team_name):\n",
      "    return db[(db['name_team1']==team_name) | (db['name_team2']==team_name)]\n",
      "\n",
      "def saison_matches(db, saison):\n",
      "    return db[db['league_saison']==saison]\n",
      "\n",
      "def team_wins(db, team_name):\n",
      "    team1_wins = (db['name_team1']==team_name) & (db['points_team1']>db['points_team2'])\n",
      "    team2_wins = (db['name_team2']==team_name) & (db['points_team1']<db['points_team2'])\n",
      "    return db[team1_wins | team2_wins]\n",
      "\n",
      "def team_loses(db, team_name):\n",
      "    team1_wins = (db['name_team1']==team_name) & (db['points_team1']<db['points_team2'])\n",
      "    team2_wins = (db['name_team2']==team_name) & (db['points_team1']>db['points_team2'])\n",
      "    return db[team1_wins | team2_wins]\n",
      "\n",
      "def team_draws(db, team_name):\n",
      "    matches = team_matches(db, team_name)\n",
      "    return matches[matches['points_team1']==matches['points_team2']]\n",
      "\n",
      "def next_matches(db):\n",
      "    return db[db['match_is_finished']==False]\n",
      "\n",
      "def last_matches(db):\n",
      "    return db[db['match_is_finished']==True].sort('match_date_time', ascending=False)"
     ],
     "language": "python",
     "metadata": {},
     "outputs": [],
     "prompt_number": 46
    },
    {
     "cell_type": "code",
     "collapsed": false,
     "input": [
      "#pd.options.display.notebook_repr_html = True\n",
      "pd.options.display.max_colwidth = 200\n",
      "print last_matches(team_matches(db, 'VfB Stuttgart'))[['match_date_time', 'name_team1', 'name_team2']].head()\n"
     ],
     "language": "python",
     "metadata": {},
     "outputs": [
      {
       "output_type": "stream",
       "stream": "stdout",
       "text": [
        "                match_date_time       name_team1             name_team2\n",
        "1233  2013-08-17T15:30:00+00:00    VfB Stuttgart    Bayer 04 Leverkusen\n",
        "1231  2013-08-11T15:30:00+00:00  1. FSV Mainz 05          VfB Stuttgart\n",
        "1222  2013-05-18T15:30:00+00:00    VfB Stuttgart        1. FSV Mainz 05\n",
        "1207  2013-05-11T15:30:00+00:00    FC Schalke 04          VfB Stuttgart\n",
        "1201  2013-05-04T15:30:00+00:00    VfB Stuttgart  SpVgg Greuther Fuerth\n"
       ]
      }
     ],
     "prompt_number": 59
    }
   ],
   "metadata": {}
  }
 ]
}