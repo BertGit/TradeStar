{
 "metadata": {
  "name": "helper_functions"
 },
 "nbformat": 3,
 "nbformat_minor": 0,
 "worksheets": [
  {
   "cells": [
    {
     "cell_type": "code",
     "collapsed": false,
     "input": [
      "from load_data import *\n",
      "\n",
      "#scrape_all_data()\n",
      "db = load_db_from_file()\n",
      "db = update_db(db, 2013)"
     ],
     "language": "python",
     "metadata": {},
     "outputs": [],
     "prompt_number": 20
    },
    {
     "cell_type": "code",
     "collapsed": false,
     "input": [
      "def team_matches(db, team_name):\n",
      "    return db[(db['name_team1']==team_name) | (db['name_team2']==team_name)]\n",
      "\n",
      "def saison_matches(db, saison):\n",
      "    return db[db['league_saison']==saison]\n",
      "\n",
      "def team_wins(db, team_name):\n",
      "    team1_wins = (db['name_team1']==team_name) & (db['points_team1']>db['points_team2'])\n",
      "    team2_wins = (db['name_team2']==team_name) & (db['points_team1']<db['points_team2'])\n",
      "    return db[team1_wins | team2_wins]\n",
      "\n",
      "def team_loses(db, team_name):\n",
      "    team1_wins = (db['name_team1']==team_name) & (db['points_team1']<db['points_team2'])\n",
      "    team2_wins = (db['name_team2']==team_name) & (db['points_team1']>db['points_team2'])\n",
      "    return db[team1_wins | team2_wins]\n",
      "\n",
      "def team_draws(db, team_name):\n",
      "    return db[db['points_team1']==db['points_team2']]"
     ],
     "language": "python",
     "metadata": {},
     "outputs": [],
     "prompt_number": 26
    },
    {
     "cell_type": "code",
     "collapsed": false,
     "input": [
      "vfb = get_saison_matches(db, 2011)\n",
      "vfb['league_saison']"
     ],
     "language": "python",
     "metadata": {},
     "outputs": [
      {
       "output_type": "pyout",
       "prompt_number": 27,
       "text": [
        "612    2011\n",
        "613    2011\n",
        "614    2011\n",
        "615    2011\n",
        "616    2011\n",
        "617    2011\n",
        "618    2011\n",
        "619    2011\n",
        "620    2011\n",
        "621    2011\n",
        "622    2011\n",
        "623    2011\n",
        "624    2011\n",
        "625    2011\n",
        "626    2011\n",
        "...\n",
        "903    2011\n",
        "904    2011\n",
        "905    2011\n",
        "906    2011\n",
        "907    2011\n",
        "908    2011\n",
        "909    2011\n",
        "910    2011\n",
        "911    2011\n",
        "912    2011\n",
        "913    2011\n",
        "914    2011\n",
        "915    2011\n",
        "916    2011\n",
        "917    2011\n",
        "Name: league_saison, Length: 306, dtype: object"
       ]
      }
     ],
     "prompt_number": 27
    }
   ],
   "metadata": {}
  }
 ]
}