{
 "metadata": {
  "name": "helper_functions"
 },
 "nbformat": 3,
 "nbformat_minor": 0,
 "worksheets": [
  {
   "cells": [
    {
     "cell_type": "code",
     "collapsed": false,
     "input": [
      "from IPython.core.display import HTML, display\n",
      "\n",
      "def team_matches(db, team_name):\n",
      "    return db[(db['name_team1']==team_name) | (db['name_team2']==team_name)]\n",
      "\n",
      "def saison_matches(db, saison):\n",
      "    return db[db['league_saison']==saison]\n",
      "\n",
      "def team_wins(db, team_name):\n",
      "    team1_wins = (db['name_team1']==team_name) & (db['points_team1']>db['points_team2'])\n",
      "    team2_wins = (db['name_team2']==team_name) & (db['points_team1']<db['points_team2'])\n",
      "    return db[team1_wins | team2_wins]\n",
      "\n",
      "def team_loses(db, team_name):\n",
      "    team1_wins = (db['name_team1']==team_name) & (db['points_team1']<db['points_team2'])\n",
      "    team2_wins = (db['name_team2']==team_name) & (db['points_team1']>db['points_team2'])\n",
      "    return db[team1_wins | team2_wins]\n",
      "\n",
      "def team_draws(db, team_name):\n",
      "    matches = team_matches(db, team_name)\n",
      "    return matches[matches['points_team1']==matches['points_team2']]\n",
      "\n",
      "def next_matches(db):\n",
      "    return db[db['match_is_finished']==False]\n",
      "\n",
      "def last_matches(db):\n",
      "    return db[db['match_is_finished']==True].sort('match_date_time', ascending=False)\n",
      "\n",
      "def show_next_matches(db, num_matches):\n",
      "    display(next_matches(db)[['match_date_time', 'name_team1', 'name_team2']].head(num_matches))\n",
      "    \n",
      "def show_last_matches(db, num_matches):\n",
      "    display(last_matches(db)[['match_date_time', 'name_team1', 'name_team2', 'points_team1', 'points_team2']].head(num_matches))"
     ],
     "language": "python",
     "metadata": {},
     "outputs": [],
     "prompt_number": 26
    }
   ],
   "metadata": {}
  }
 ]
}