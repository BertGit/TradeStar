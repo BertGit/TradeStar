{
 "metadata": {
  "name": "Scrape Data from openLigaDB"
 },
 "nbformat": 3,
 "nbformat_minor": 0,
 "worksheets": [
  {
   "cells": [
    {
     "cell_type": "heading",
     "level": 1,
     "metadata": {},
     "source": [
      "Loading Data from openLigaDB"
     ]
    },
    {
     "cell_type": "code",
     "collapsed": false,
     "input": [
      "import json\n",
      "import urllib\n",
      "import urllib2\n",
      "import pandas as pd\n",
      "\n",
      "def getJsonResponse(function, parameters):\n",
      "    \"\"\"Gets JSON response of function and parameters according to http://openligadb-json.heroku.com/\"\"\"\n",
      "    encoded_args = urllib.urlencode(parameters)\n",
      "    response = urllib2.urlopen('http://openligadb-json.heroku.com/api/' + function + '?' + encoded_args)\n",
      "    return json.loads(response.read())"
     ],
     "language": "python",
     "metadata": {},
     "outputs": [],
     "prompt_number": 185
    },
    {
     "cell_type": "code",
     "collapsed": false,
     "input": [
      "# Get teams from 2013 and store in csv file\n",
      "teams = getJsonResponse('teams_by_league_saison', {'league_saison':'2013', 'league_shortcut':'bl1'})\n",
      "df = pd.DataFrame.from_dict(teams['team'])\n",
      "df.to_csv('teams.csv', encoding='utf8', index=False)"
     ],
     "language": "python",
     "metadata": {},
     "outputs": []
    },
    {
     "cell_type": "code",
     "collapsed": false,
     "input": [
      "# Get all games from 2013. How to store in csv-file??\n",
      "league_2013 = getJsonResponse('matchdata_by_league_saison', {'league_saison':'2013', 'league_shortcut':'bl1'}"
     ],
     "language": "python",
     "metadata": {},
     "outputs": [],
     "prompt_number": 177
    },
    {
     "cell_type": "code",
     "collapsed": false,
     "input": [
      "print league_2013['matchdata'][0]"
     ],
     "language": "python",
     "metadata": {},
     "outputs": [
      {
       "output_type": "stream",
       "stream": "stdout",
       "text": [
        "{u'match_date_time': u'2013-08-09T20:30:00+00:00', u'match_id': u'23711', u'group_order_id': u'1', u'group_name': u'1. Spieltag', u'icon_url_team2': u'http://www.openligadb.de/images/teamicons/Bor_Moenchengladbach.gif', u'icon_url_team1': u'http://www.openligadb.de/images/teamicons/Bayern_Muenchen.gif', u'match_date_time_utc': u'2013-08-09T18:30:00+00:00', u'last_update': u'2013-08-10T19:45:27+00:00', u'location': {u'location_city': u'M\\xfcnchen', u'location_stadium': u'Allianz Arena', u'location_id': u'34'}, u'time_zone_id': u'W. Europe Standard Time', u'league_name': u'1. Fussball-Bundesliga 2013/2014', u'match_results': {u'match_result': [{u'points_team1': u'3', u'points_team2': u'1', u'result_type_name': u'nach 90 Minuten', u'result_type_id': u'2', u'result_name': u'Endergebnis', u'result_order_id': u'1'}, {u'points_team1': u'2', u'points_team2': u'1', u'result_type_name': u'Halbzeit', u'result_type_id': u'1', u'result_name': u'Halbzeit', u'result_order_id': u'2'}]}, u'goals': {u'goal': [{u'goal_own_goal': False, u'goal_mach_id': u'23711', u'goal_match_minute': u'16', u'goal_getter_name': u'Mario Mandzukic', u'goal_overtime': False, u'goal_id': u'21118', u'goal_getter_id': u'5112', u'goal_penalty': False, u'goal_score_team2': u'0', u'goal_score_team1': u'2'}, {u'goal_own_goal': None, u'goal_mach_id': u'23711', u'goal_match_minute': u'12', u'goal_getter_name': u'Arjen Robben', u'goal_overtime': None, u'goal_id': u'21119', u'goal_getter_id': u'1876', u'goal_penalty': None, u'goal_score_team2': u'0', u'goal_score_team1': u'1'}, {u'goal_own_goal': True, u'goal_mach_id': u'23711', u'goal_match_minute': u'40', u'goal_getter_name': u'Dante', u'goal_overtime': False, u'goal_id': u'21132', u'goal_getter_id': u'924', u'goal_penalty': False, u'goal_score_team2': u'1', u'goal_score_team1': u'2'}, {u'goal_own_goal': False, u'goal_mach_id': u'23711', u'goal_match_minute': u'69', u'goal_getter_name': u'David Alaba', u'goal_overtime': False, u'goal_id': u'21133', u'goal_getter_id': u'2980', u'goal_penalty': True, u'goal_score_team2': u'1', u'goal_score_team1': u'3'}]}, u'league_shortcut': u'bl1', u'league_saison': u'2013', u'match_is_finished': True, u'points_team1': u'3', u'points_team2': u'1', u'league_id': u'623', u'name_team2': u'Borussia M\\xf6nchengladbach', u'name_team1': u'Bayern M\\xfcnchen', u'number_of_viewers': u'71137', u'id_team2': u'87', u'id_team1': u'40', u'group_id': u'8787'}\n"
       ]
      }
     ],
     "prompt_number": 182
    }
   ],
   "metadata": {}
  }
 ]
}