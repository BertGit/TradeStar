{
 "metadata": {
  "name": "Scrape Data from openLigaDB"
 },
 "nbformat": 3,
 "nbformat_minor": 0,
 "worksheets": [
  {
   "cells": [
    {
     "cell_type": "heading",
     "level": 1,
     "metadata": {},
     "source": [
      "Loading Data from openLigaDB"
     ]
    },
    {
     "cell_type": "code",
     "collapsed": false,
     "input": [
      "import json\n",
      "import urllib\n",
      "import urllib2\n",
      "import pandas as pd\n",
      "\n",
      "def getJsonResponse(function, parameters):\n",
      "    \"\"\"Gets JSON response of function and parameters according to http://openligadb-json.heroku.com/\"\"\"\n",
      "    encoded_args = urllib.urlencode(parameters)\n",
      "    response = urllib2.urlopen('http://openligadb-json.heroku.com/api/' + function + '?' + encoded_args)\n",
      "    return json.loads(response.read())"
     ],
     "language": "python",
     "metadata": {},
     "outputs": [],
     "prompt_number": 186
    },
    {
     "cell_type": "code",
     "collapsed": false,
     "input": [
      "# Get teams from 2013/2014\n",
      "teams = getJsonResponse('teams_by_league_saison', {'league_saison':'2013', 'league_shortcut':'bl1'})\n",
      "teams = pd.DataFrame.from_dict(teams['team'])\n",
      "# Get all games from 2009-2013. This can take quite some time due to server caching\n",
      "years = ['2009', '2010', '2011', '2012', '2013']\n",
      "matches = dict.fromkeys(years)\n",
      "for year in years:\n",
      "    league = getJsonResponse('matchdata_by_league_saison', {'league_saison':year, 'league_shortcut':'bl1'})\n",
      "    matches[year] = pd.DataFrame.from_dict(league['matchdata'])"
     ],
     "language": "python",
     "metadata": {},
     "outputs": [],
     "prompt_number": 209
    },
    {
     "cell_type": "heading",
     "level": 3,
     "metadata": {},
     "source": [
      "Get all winning games of VfB Stuttgart in 2011"
     ]
    },
    {
     "cell_type": "code",
     "collapsed": false,
     "input": [
      "team1_wins = (matches['2011'].name_team1=='VfB Stuttgart') & (matches['2011'].points_team1>matches['2011'].points_team2)\n",
      "team2_wins = (matches['2011'].name_team2=='VfB Stuttgart') & (matches['2011'].points_team2>matches['2011'].points_team1)\n",
      "vfb_wins = matches['2011'][team1_wins | team2_wins]\n",
      "\n",
      "vfb_wins[['name_team1', 'name_team2', 'points_team1', 'points_team2']]"
     ],
     "language": "python",
     "metadata": {},
     "outputs": [
      {
       "html": [
        "<div style=\"max-height:1000px;max-width:1500px;overflow:auto;\">\n",
        "<table border=\"1\" class=\"dataframe\">\n",
        "  <thead>\n",
        "    <tr style=\"text-align: right;\">\n",
        "      <th></th>\n",
        "      <th>name_team1</th>\n",
        "      <th>name_team2</th>\n",
        "      <th>points_team1</th>\n",
        "      <th>points_team2</th>\n",
        "    </tr>\n",
        "  </thead>\n",
        "  <tbody>\n",
        "    <tr>\n",
        "      <th>2  </th>\n",
        "      <td>        VfB Stuttgart</td>\n",
        "      <td>       FC Schalke 04</td>\n",
        "      <td> 3</td>\n",
        "      <td> 0</td>\n",
        "    </tr>\n",
        "    <tr>\n",
        "      <th>40 </th>\n",
        "      <td>        VfB Stuttgart</td>\n",
        "      <td>         Hannover 96</td>\n",
        "      <td> 3</td>\n",
        "      <td> 0</td>\n",
        "    </tr>\n",
        "    <tr>\n",
        "      <th>45 </th>\n",
        "      <td>          SC Freiburg</td>\n",
        "      <td>       VfB Stuttgart</td>\n",
        "      <td> 1</td>\n",
        "      <td> 2</td>\n",
        "    </tr>\n",
        "    <tr>\n",
        "      <th>63 </th>\n",
        "      <td> 1. FC Kaiserslautern</td>\n",
        "      <td>       VfB Stuttgart</td>\n",
        "      <td> 0</td>\n",
        "      <td> 2</td>\n",
        "    </tr>\n",
        "    <tr>\n",
        "      <th>75 </th>\n",
        "      <td>        VfB Stuttgart</td>\n",
        "      <td> TSG 1899 Hoffenheim</td>\n",
        "      <td> 2</td>\n",
        "      <td> 0</td>\n",
        "    </tr>\n",
        "    <tr>\n",
        "      <th>114</th>\n",
        "      <td>        VfB Stuttgart</td>\n",
        "      <td>         FC Augsburg</td>\n",
        "      <td> 2</td>\n",
        "      <td> 1</td>\n",
        "    </tr>\n",
        "    <tr>\n",
        "      <th>185</th>\n",
        "      <td>        VfB Stuttgart</td>\n",
        "      <td>          Hertha BSC</td>\n",
        "      <td> 5</td>\n",
        "      <td> 0</td>\n",
        "    </tr>\n",
        "    <tr>\n",
        "      <th>200</th>\n",
        "      <td>        VfB Stuttgart</td>\n",
        "      <td>         SC Freiburg</td>\n",
        "      <td> 4</td>\n",
        "      <td> 1</td>\n",
        "    </tr>\n",
        "    <tr>\n",
        "      <th>210</th>\n",
        "      <td>         Hamburger SV</td>\n",
        "      <td>       VfB Stuttgart</td>\n",
        "      <td> 0</td>\n",
        "      <td> 4</td>\n",
        "    </tr>\n",
        "    <tr>\n",
        "      <th>225</th>\n",
        "      <td>  TSG 1899 Hoffenheim</td>\n",
        "      <td>       VfB Stuttgart</td>\n",
        "      <td> 1</td>\n",
        "      <td> 2</td>\n",
        "    </tr>\n",
        "    <tr>\n",
        "      <th>241</th>\n",
        "      <td>        VfB Stuttgart</td>\n",
        "      <td>      1. FC N\u00fcrnberg</td>\n",
        "      <td> 1</td>\n",
        "      <td> 0</td>\n",
        "    </tr>\n",
        "    <tr>\n",
        "      <th>254</th>\n",
        "      <td>        VfB Stuttgart</td>\n",
        "      <td>     1. FSV Mainz 05</td>\n",
        "      <td> 4</td>\n",
        "      <td> 1</td>\n",
        "    </tr>\n",
        "    <tr>\n",
        "      <th>262</th>\n",
        "      <td>          FC Augsburg</td>\n",
        "      <td>       VfB Stuttgart</td>\n",
        "      <td> 1</td>\n",
        "      <td> 3</td>\n",
        "    </tr>\n",
        "    <tr>\n",
        "      <th>270</th>\n",
        "      <td>        VfB Stuttgart</td>\n",
        "      <td>       Werder Bremen</td>\n",
        "      <td> 4</td>\n",
        "      <td> 1</td>\n",
        "    </tr>\n",
        "    <tr>\n",
        "      <th>304</th>\n",
        "      <td>        VfB Stuttgart</td>\n",
        "      <td>       VfL Wolfsburg</td>\n",
        "      <td> 3</td>\n",
        "      <td> 2</td>\n",
        "    </tr>\n",
        "  </tbody>\n",
        "</table>\n",
        "</div>"
       ],
       "output_type": "pyout",
       "prompt_number": 226,
       "text": [
        "               name_team1           name_team2 points_team1 points_team2\n",
        "2           VfB Stuttgart        FC Schalke 04            3            0\n",
        "40          VfB Stuttgart          Hannover 96            3            0\n",
        "45            SC Freiburg        VfB Stuttgart            1            2\n",
        "63   1. FC Kaiserslautern        VfB Stuttgart            0            2\n",
        "75          VfB Stuttgart  TSG 1899 Hoffenheim            2            0\n",
        "114         VfB Stuttgart          FC Augsburg            2            1\n",
        "185         VfB Stuttgart           Hertha BSC            5            0\n",
        "200         VfB Stuttgart          SC Freiburg            4            1\n",
        "210          Hamburger SV        VfB Stuttgart            0            4\n",
        "225   TSG 1899 Hoffenheim        VfB Stuttgart            1            2\n",
        "241         VfB Stuttgart       1. FC N\u00fcrnberg            1            0\n",
        "254         VfB Stuttgart      1. FSV Mainz 05            4            1\n",
        "262           FC Augsburg        VfB Stuttgart            1            3\n",
        "270         VfB Stuttgart        Werder Bremen            4            1\n",
        "304         VfB Stuttgart        VfL Wolfsburg            3            2"
       ]
      }
     ],
     "prompt_number": 226
    },
    {
     "cell_type": "code",
     "collapsed": false,
     "input": [
      "# get the number of games, VfB won in 2011\n",
      "len(vfb_wins)"
     ],
     "language": "python",
     "metadata": {},
     "outputs": [
      {
       "output_type": "pyout",
       "prompt_number": 227,
       "text": [
        "15"
       ]
      }
     ],
     "prompt_number": 227
    }
   ],
   "metadata": {}
  }
 ]
}